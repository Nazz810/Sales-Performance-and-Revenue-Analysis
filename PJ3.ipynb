{
 "cells": [
  {
   "cell_type": "code",
   "execution_count": 3,
   "id": "76bbf297-09df-48b7-b423-eba028eb6afd",
   "metadata": {},
   "outputs": [],
   "source": [
    "import pandas as pd\n",
    "import numpy as np\n",
    "import matplotlib.pyplot as plt\n",
    "import seaborn as sns"
   ]
  },
  {
   "cell_type": "code",
   "execution_count": 4,
   "id": "2d472869-d776-4d3e-ab6b-cdbe43ae32e9",
   "metadata": {},
   "outputs": [],
   "source": [
    "data=pd.read_csv('sales_data_sample.csv',encoding='latin1')"
   ]
  },
  {
   "cell_type": "code",
   "execution_count": 5,
   "id": "d01d8a3e-d7ee-48d9-891f-8ae04604e2e4",
   "metadata": {},
   "outputs": [
    {
     "data": {
      "text/plain": [
       "ORDERNUMBER            0\n",
       "QUANTITYORDERED        0\n",
       "PRICEEACH              0\n",
       "ORDERLINENUMBER        0\n",
       "SALES                  0\n",
       "ORDERDATE              0\n",
       "STATUS                 0\n",
       "QTR_ID                 0\n",
       "MONTH_ID               0\n",
       "YEAR_ID                0\n",
       "PRODUCTLINE            0\n",
       "MSRP                   0\n",
       "PRODUCTCODE            0\n",
       "CUSTOMERNAME           0\n",
       "PHONE                  0\n",
       "ADDRESSLINE1           0\n",
       "ADDRESSLINE2        2521\n",
       "CITY                   0\n",
       "STATE               1486\n",
       "POSTALCODE            76\n",
       "COUNTRY                0\n",
       "TERRITORY           1074\n",
       "CONTACTLASTNAME        0\n",
       "CONTACTFIRSTNAME       0\n",
       "DEALSIZE               0\n",
       "dtype: int64"
      ]
     },
     "execution_count": 5,
     "metadata": {},
     "output_type": "execute_result"
    }
   ],
   "source": [
    "data.isnull().sum()"
   ]
  },
  {
   "cell_type": "code",
   "execution_count": 6,
   "id": "78f07a97-2aa6-4773-a922-d8fc5c8f0b9b",
   "metadata": {},
   "outputs": [],
   "source": [
    "data=data.dropna(axis=1,how='any')"
   ]
  },
  {
   "cell_type": "code",
   "execution_count": 7,
   "id": "4c15d303-aab5-48e8-aa4f-7e10aff20a16",
   "metadata": {},
   "outputs": [
    {
     "data": {
      "text/plain": [
       "ORDERNUMBER         0\n",
       "QUANTITYORDERED     0\n",
       "PRICEEACH           0\n",
       "ORDERLINENUMBER     0\n",
       "SALES               0\n",
       "ORDERDATE           0\n",
       "STATUS              0\n",
       "QTR_ID              0\n",
       "MONTH_ID            0\n",
       "YEAR_ID             0\n",
       "PRODUCTLINE         0\n",
       "MSRP                0\n",
       "PRODUCTCODE         0\n",
       "CUSTOMERNAME        0\n",
       "PHONE               0\n",
       "ADDRESSLINE1        0\n",
       "CITY                0\n",
       "COUNTRY             0\n",
       "CONTACTLASTNAME     0\n",
       "CONTACTFIRSTNAME    0\n",
       "DEALSIZE            0\n",
       "dtype: int64"
      ]
     },
     "execution_count": 7,
     "metadata": {},
     "output_type": "execute_result"
    }
   ],
   "source": [
    "data.isnull().sum()"
   ]
  },
  {
   "cell_type": "code",
   "execution_count": 8,
   "id": "bdf6ef00-79e0-4247-a230-63326a6655c4",
   "metadata": {},
   "outputs": [],
   "source": [
    "data=data.copy()"
   ]
  },
  {
   "cell_type": "markdown",
   "id": "d13c768d-6990-464c-8fb9-a0ee2b03b2b4",
   "metadata": {},
   "source": [
    "Revenue Gap Analysis\n"
   ]
  },
  {
   "cell_type": "code",
   "execution_count": 9,
   "id": "61924519-860c-4b12-af81-b7f9e45f000e",
   "metadata": {},
   "outputs": [],
   "source": [
    "# 1.Benchmarks based on average sales per product line\n",
    "\n",
    "Benchmark_revenue=data.groupby('PRODUCTLINE')['SALES'].mean()"
   ]
  },
  {
   "cell_type": "code",
   "execution_count": 10,
   "id": "ad899a92-ca4a-4e4b-aa72-00f71751d1a7",
   "metadata": {},
   "outputs": [
    {
     "data": {
      "text/plain": [
       "PRODUCTLINE\n",
       "Classic Cars        4053.377104\n",
       "Motorcycles         3523.831843\n",
       "Planes              3186.286176\n",
       "Ships               3053.150128\n",
       "Trains              2938.226883\n",
       "Trucks and Buses    3746.810100\n",
       "Vintage Cars        3135.339110\n",
       "Name: SALES, dtype: float64"
      ]
     },
     "execution_count": 10,
     "metadata": {},
     "output_type": "execute_result"
    }
   ],
   "source": [
    "Benchmark_revenue"
   ]
  },
  {
   "cell_type": "code",
   "execution_count": 11,
   "id": "10add379-9ae7-4908-a359-7ec792cc51a2",
   "metadata": {},
   "outputs": [],
   "source": [
    "# Add Benchmark and Calculate Gap:\n",
    "\n",
    "data['Gap'] = data['SALES'] - data['PRODUCTLINE'].map(Benchmark_revenue)"
   ]
  },
  {
   "cell_type": "code",
   "execution_count": 12,
   "id": "6ae444e1-b780-4ef0-bc3a-abb8694dde4f",
   "metadata": {},
   "outputs": [
    {
     "data": {
      "text/html": [
       "<div>\n",
       "<style scoped>\n",
       "    .dataframe tbody tr th:only-of-type {\n",
       "        vertical-align: middle;\n",
       "    }\n",
       "\n",
       "    .dataframe tbody tr th {\n",
       "        vertical-align: top;\n",
       "    }\n",
       "\n",
       "    .dataframe thead th {\n",
       "        text-align: right;\n",
       "    }\n",
       "</style>\n",
       "<table border=\"1\" class=\"dataframe\">\n",
       "  <thead>\n",
       "    <tr style=\"text-align: right;\">\n",
       "      <th></th>\n",
       "      <th>PRODUCTLINE</th>\n",
       "      <th>SALES</th>\n",
       "      <th>Gap</th>\n",
       "    </tr>\n",
       "  </thead>\n",
       "  <tbody>\n",
       "    <tr>\n",
       "      <th>0</th>\n",
       "      <td>Motorcycles</td>\n",
       "      <td>2871.00</td>\n",
       "      <td>-652.831843</td>\n",
       "    </tr>\n",
       "    <tr>\n",
       "      <th>1</th>\n",
       "      <td>Motorcycles</td>\n",
       "      <td>2765.90</td>\n",
       "      <td>-757.931843</td>\n",
       "    </tr>\n",
       "    <tr>\n",
       "      <th>2</th>\n",
       "      <td>Motorcycles</td>\n",
       "      <td>3884.34</td>\n",
       "      <td>360.508157</td>\n",
       "    </tr>\n",
       "    <tr>\n",
       "      <th>3</th>\n",
       "      <td>Motorcycles</td>\n",
       "      <td>3746.70</td>\n",
       "      <td>222.868157</td>\n",
       "    </tr>\n",
       "    <tr>\n",
       "      <th>4</th>\n",
       "      <td>Motorcycles</td>\n",
       "      <td>5205.27</td>\n",
       "      <td>1681.438157</td>\n",
       "    </tr>\n",
       "    <tr>\n",
       "      <th>...</th>\n",
       "      <td>...</td>\n",
       "      <td>...</td>\n",
       "      <td>...</td>\n",
       "    </tr>\n",
       "    <tr>\n",
       "      <th>2818</th>\n",
       "      <td>Ships</td>\n",
       "      <td>2244.40</td>\n",
       "      <td>-808.750128</td>\n",
       "    </tr>\n",
       "    <tr>\n",
       "      <th>2819</th>\n",
       "      <td>Ships</td>\n",
       "      <td>3978.51</td>\n",
       "      <td>925.359872</td>\n",
       "    </tr>\n",
       "    <tr>\n",
       "      <th>2820</th>\n",
       "      <td>Ships</td>\n",
       "      <td>5417.57</td>\n",
       "      <td>2364.419872</td>\n",
       "    </tr>\n",
       "    <tr>\n",
       "      <th>2821</th>\n",
       "      <td>Ships</td>\n",
       "      <td>2116.16</td>\n",
       "      <td>-936.990128</td>\n",
       "    </tr>\n",
       "    <tr>\n",
       "      <th>2822</th>\n",
       "      <td>Ships</td>\n",
       "      <td>3079.44</td>\n",
       "      <td>26.289872</td>\n",
       "    </tr>\n",
       "  </tbody>\n",
       "</table>\n",
       "<p>2823 rows × 3 columns</p>\n",
       "</div>"
      ],
      "text/plain": [
       "      PRODUCTLINE    SALES          Gap\n",
       "0     Motorcycles  2871.00  -652.831843\n",
       "1     Motorcycles  2765.90  -757.931843\n",
       "2     Motorcycles  3884.34   360.508157\n",
       "3     Motorcycles  3746.70   222.868157\n",
       "4     Motorcycles  5205.27  1681.438157\n",
       "...           ...      ...          ...\n",
       "2818        Ships  2244.40  -808.750128\n",
       "2819        Ships  3978.51   925.359872\n",
       "2820        Ships  5417.57  2364.419872\n",
       "2821        Ships  2116.16  -936.990128\n",
       "2822        Ships  3079.44    26.289872\n",
       "\n",
       "[2823 rows x 3 columns]"
      ]
     },
     "execution_count": 12,
     "metadata": {},
     "output_type": "execute_result"
    }
   ],
   "source": [
    "data[['PRODUCTLINE','SALES','Gap']]"
   ]
  },
  {
   "cell_type": "code",
   "execution_count": 13,
   "id": "089816fd-9034-40ca-a508-cfd833fbd494",
   "metadata": {},
   "outputs": [
    {
     "data": {
      "text/plain": [
       "PRODUCTLINE\n",
       "Classic Cars        3919615.66\n",
       "Vintage Cars        1903150.84\n",
       "Motorcycles         1166388.34\n",
       "Trucks and Buses    1127789.84\n",
       "Planes               975003.57\n",
       "Ships                714437.13\n",
       "Trains               226243.47\n",
       "Name: SALES, dtype: float64"
      ]
     },
     "execution_count": 13,
     "metadata": {},
     "output_type": "execute_result"
    }
   ],
   "source": [
    "# 2.Revenue by Product Line\n",
    "\n",
    "revenue_by_product = data.groupby('PRODUCTLINE')['SALES'].sum().sort_values(ascending=False)\n",
    "revenue_by_product"
   ]
  },
  {
   "cell_type": "code",
   "execution_count": 14,
   "id": "e2f5d4cd-572a-464b-a1b6-3d7d8c697127",
   "metadata": {},
   "outputs": [],
   "source": [
    "data['ORDERDATE'] = pd.to_datetime(data['ORDERDATE'])"
   ]
  },
  {
   "cell_type": "code",
   "execution_count": 15,
   "id": "bab06efb-d473-466d-ad5f-001c39584a8a",
   "metadata": {},
   "outputs": [],
   "source": [
    "data['Year'] = data['ORDERDATE'].dt.year\n",
    "data['Month'] = data['ORDERDATE'].dt.month"
   ]
  },
  {
   "cell_type": "code",
   "execution_count": 16,
   "id": "40be99f7-6afb-4f9c-8b3d-38791ba0d44a",
   "metadata": {},
   "outputs": [],
   "source": [
    "# Monthly Revenue\n",
    "\n",
    "monthly_revenue = data.groupby(['Year', 'Month'])['SALES'].sum().reset_index()"
   ]
  },
  {
   "cell_type": "code",
   "execution_count": 17,
   "id": "81a4ce75-acb2-40e7-9356-a0be3ca4fd0c",
   "metadata": {},
   "outputs": [
    {
     "data": {
      "text/html": [
       "<div>\n",
       "<style scoped>\n",
       "    .dataframe tbody tr th:only-of-type {\n",
       "        vertical-align: middle;\n",
       "    }\n",
       "\n",
       "    .dataframe tbody tr th {\n",
       "        vertical-align: top;\n",
       "    }\n",
       "\n",
       "    .dataframe thead th {\n",
       "        text-align: right;\n",
       "    }\n",
       "</style>\n",
       "<table border=\"1\" class=\"dataframe\">\n",
       "  <thead>\n",
       "    <tr style=\"text-align: right;\">\n",
       "      <th></th>\n",
       "      <th>Year</th>\n",
       "      <th>Month</th>\n",
       "      <th>SALES</th>\n",
       "    </tr>\n",
       "  </thead>\n",
       "  <tbody>\n",
       "    <tr>\n",
       "      <th>0</th>\n",
       "      <td>2003</td>\n",
       "      <td>1</td>\n",
       "      <td>129753.60</td>\n",
       "    </tr>\n",
       "    <tr>\n",
       "      <th>1</th>\n",
       "      <td>2003</td>\n",
       "      <td>2</td>\n",
       "      <td>140836.19</td>\n",
       "    </tr>\n",
       "    <tr>\n",
       "      <th>2</th>\n",
       "      <td>2003</td>\n",
       "      <td>3</td>\n",
       "      <td>174504.90</td>\n",
       "    </tr>\n",
       "    <tr>\n",
       "      <th>3</th>\n",
       "      <td>2003</td>\n",
       "      <td>4</td>\n",
       "      <td>201609.55</td>\n",
       "    </tr>\n",
       "    <tr>\n",
       "      <th>4</th>\n",
       "      <td>2003</td>\n",
       "      <td>5</td>\n",
       "      <td>192673.11</td>\n",
       "    </tr>\n",
       "  </tbody>\n",
       "</table>\n",
       "</div>"
      ],
      "text/plain": [
       "   Year  Month      SALES\n",
       "0  2003      1  129753.60\n",
       "1  2003      2  140836.19\n",
       "2  2003      3  174504.90\n",
       "3  2003      4  201609.55\n",
       "4  2003      5  192673.11"
      ]
     },
     "execution_count": 17,
     "metadata": {},
     "output_type": "execute_result"
    }
   ],
   "source": [
    "monthly_revenue.head()"
   ]
  },
  {
   "cell_type": "code",
   "execution_count": 18,
   "id": "af785fad-84fc-41a4-94c0-b4bcd3fee8ab",
   "metadata": {},
   "outputs": [
    {
     "data": {
      "text/plain": [
       "PRODUCTLINE\n",
       "Classic Cars        3919615.66\n",
       "Motorcycles         1166388.34\n",
       "Planes               975003.57\n",
       "Ships                714437.13\n",
       "Trains               226243.47\n",
       "Trucks and Buses    1127789.84\n",
       "Vintage Cars        1903150.84\n",
       "Name: SALES, dtype: float64"
      ]
     },
     "execution_count": 18,
     "metadata": {},
     "output_type": "execute_result"
    }
   ],
   "source": [
    "# 3.Find revenue gaps by product line\n",
    "\n",
    "actual_revenue = data.groupby('PRODUCTLINE')['SALES'].sum()\n",
    "actual_revenue"
   ]
  },
  {
   "cell_type": "code",
   "execution_count": 19,
   "id": "aaa240ed-9f58-4977-8917-3ef43323287a",
   "metadata": {},
   "outputs": [
    {
     "name": "stdout",
     "output_type": "stream",
     "text": [
      "                  Actual Revenue  Benchmark Revenue   Revenue Gap\n",
      "PRODUCTLINE                                                      \n",
      "Classic Cars          3919615.66        4053.377104  3.915562e+06\n",
      "Motorcycles           1166388.34        3523.831843  1.162865e+06\n",
      "Planes                 975003.57        3186.286176  9.718173e+05\n",
      "Ships                  714437.13        3053.150128  7.113840e+05\n",
      "Trains                 226243.47        2938.226883  2.233052e+05\n",
      "Trucks and Buses      1127789.84        3746.810100  1.124043e+06\n",
      "Vintage Cars          1903150.84        3135.339110  1.900016e+06\n"
     ]
    }
   ],
   "source": [
    "# Combine both Series into a DataFrame to ensure alignment\n",
    "comparison_df = pd.DataFrame({\n",
    "    'Actual Revenue': actual_revenue,\n",
    "    'Benchmark Revenue': Benchmark_revenue\n",
    "})\n",
    "\n",
    "# Calculate the revenue gap directly\n",
    "comparison_df['Revenue Gap'] = comparison_df['Actual Revenue'] - comparison_df['Benchmark Revenue']\n",
    "\n",
    "# Print the result\n",
    "print(comparison_df)"
   ]
  },
  {
   "cell_type": "code",
   "execution_count": 20,
   "id": "7c55aa0f-b41f-4ca4-8d25-e4fa9a6bc7ea",
   "metadata": {},
   "outputs": [
    {
     "name": "stdout",
     "output_type": "stream",
     "text": [
      "No revenue loss detected. Actual revenue exceeds or matches the benchmark revenue for all product lines.\n"
     ]
    }
   ],
   "source": [
    "# 4.Quantify Lost Revenue\n",
    "\n",
    "# Check if there is any revenue loss\n",
    "lost_revenue = comparison_df['Revenue Gap'][comparison_df['Revenue Gap'] < 0]\n",
    "\n",
    "if lost_revenue.empty:\n",
    "    print(\"No revenue loss detected. Actual revenue exceeds or matches the benchmark revenue for all product lines.\")\n",
    "else:\n",
    "    total_lost_revenue = abs(lost_revenue.sum())\n",
    "    print(f\"Total lost revenue: {total_lost_revenue}\")\n"
   ]
  },
  {
   "cell_type": "code",
   "execution_count": 22,
   "id": "9e5c296c-4540-4442-aeee-9d6a40d42252",
   "metadata": {},
   "outputs": [
    {
     "data": {
      "image/png": "[encoded data removed]",
      "text/plain": [
       "<Figure size 800x500 with 2 Axes>"
      ]
     },
     "metadata": {},
     "output_type": "display_data"
    }
   ],
   "source": [
    "# 5.Visualize Revenue Gap\n",
    "\n",
    "import seaborn as sns\n",
    "import matplotlib.pyplot as plt\n",
    "\n",
    "# Prepare data for the heatmap and plot\n",
    "heatmap_data = comparison_df.pivot_table(index='PRODUCTLINE', values='Revenue Gap')\n",
    "\n",
    "plt.figure(figsize=(8, 5))\n",
    "sns.heatmap(heatmap_data, annot=True, fmt='.2f', cmap='coolwarm', cbar_kws={'label': 'Revenue Gap ($)'})\n",
    "plt.title('Revenue Gap Heatmap', fontsize=16)\n",
    "plt.ylabel('Product Line', fontsize=12)\n",
    "plt.tight_layout()\n",
    "plt.show()\n"
   ]
  },
  {
   "cell_type": "code",
   "execution_count": null,
   "id": "7b6c6d00-0c0f-42b9-aa75-96f23dfbb7a1",
   "metadata": {},
   "outputs": [],
   "source": []
  }
 ],
 "metadata": {
  "kernelspec": {
   "display_name": "Python 3 (ipykernel)",
   "language": "python",
   "name": "python3"
  },
  "language_info": {
   "codemirror_mode": {
    "name": "ipython",
    "version": 3
   },
   "file_extension": ".py",
   "mimetype": "text/x-python",
   "name": "python",
   "nbconvert_exporter": "python",
   "pygments_lexer": "ipython3",
   "version": "3.12.4"
  }
 },
 "nbformat": 4,
 "nbformat_minor": 5
}
